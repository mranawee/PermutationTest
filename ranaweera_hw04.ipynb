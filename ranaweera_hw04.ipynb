{
 "cells": [
  {
   "cell_type": "code",
   "execution_count": 1,
   "id": "10736d15",
   "metadata": {},
   "outputs": [],
   "source": [
    "import random\n",
    "import matplotlib.pyplot as plt\n",
    "import numpy as np\n",
    "\n",
    "class trial:\n",
    "    \n",
    "    def __init__(self,N):\n",
    "        self.n = N\n",
    "       \n",
    "        \n",
    "    def control_sim(self):\n",
    "        '''\n",
    "        This method will perform a simulation of infection outcomes, either infected\n",
    "        or not in the control group. Probability of being infected following exposure is \n",
    "        0.5 for this group, the untreated pigs. 'n' means not infected, and 'i' means\n",
    "        infected.\n",
    "        '''\n",
    "        controls=[]\n",
    "        for i in range(self.n):           \n",
    "            x = random.randint(0,1)\n",
    "            if x == 1:\n",
    "                y = 1\n",
    "                controls.append(y)\n",
    "            else:\n",
    "                y = 0\n",
    "                controls.append(y)\n",
    "        return np.array(controls)\n",
    "    \n",
    "    def treatment_sim(self):\n",
    "        '''\n",
    "        This method will perform a simulation of infection outcomes, either infected\n",
    "        or not in the treatment group. Probability of being infected following exposure is \n",
    "        0.1 for this group, the treated pigs. 'n' means not infected, and 'i' means\n",
    "        infected.\n",
    "        '''\n",
    "        treatments = []\n",
    "        for i in range(self.n):\n",
    "            x=random.random()\n",
    "            if x < 0.1:\n",
    "                y=0\n",
    "                treatments.append(y)\n",
    "            else:\n",
    "                y=1\n",
    "                treatments.append(y)\n",
    "        return np.array(treatments)\n",
    "            "
   ]
  },
  {
   "cell_type": "code",
   "execution_count": 4,
   "id": "048ec23c",
   "metadata": {},
   "outputs": [
    {
     "name": "stdout",
     "output_type": "stream",
     "text": [
      "[0 0 0 0 1]\n",
      "[1 0 1 1 1]\n"
     ]
    }
   ],
   "source": [
    "print(trial(5).control_sim())\n",
    "print(trial(5).treatment_sim())"
   ]
  },
  {
   "cell_type": "code",
   "execution_count": 6,
   "id": "11e2264d",
   "metadata": {},
   "outputs": [],
   "source": [
    "class permutation_test:\n",
    "    def __init__(self, group1, group2):\n",
    "        '''\n",
    "        Set the sizes of the groups bases on the sample sizes.\n",
    "        '''\n",
    "        self.n_1 = group1.size\n",
    "        self.n_2 = group2.size\n",
    "        self.n_all = self.n_1 + self.n_2\n",
    "        self.all = np.concatenate((group1, group2), axis=0)\n",
    "    \n",
    "    def shuffle_groups(self):\n",
    "        '''\n",
    "        When all the data is concatenated, it is indexed based on the control and treatment groups.\n",
    "        '''\n",
    "        temp = self.all.copy()\n",
    "        np.random.shuffle(temp)\n",
    "        go = temp[:self.n_1]\n",
    "        gt = temp[self.n_2:]\n",
    "        return(go,gt)\n",
    "    \n",
    "    def generate(self):\n",
    "        '''\n",
    "        Performs the permutation per test\n",
    "        '''\n",
    "        rounds = 5000 #10000 permutations per test, with each test needing an observed statistic\n",
    "        rand_stats = np.zeros(rounds) #permutation data        \n",
    "        for i in range(rounds):\n",
    "            go, gt = self.shuffle_groups()\n",
    "            rand_stats[i] = abs(go.mean() - gt.mean())\n",
    "        \n",
    "        return  rand_stats  #returning mean difference per permutation"
   ]
  },
  {
   "cell_type": "code",
   "execution_count": 7,
   "id": "2b1c8a7e",
   "metadata": {},
   "outputs": [],
   "source": [
    "def n_values(samp_size):\n",
    "    '''\n",
    "    This calculates the p-values based on the sample sizes, and returns the probability of a statistically significant \n",
    "    difference with the sample size as a tuple.  The data for different N values is plotted below.\n",
    "    '''\n",
    "    obs_stat_list = [] #observed statitics from each permutation test\n",
    "    total_perm_list = [] #permutation data from all 50 tests(list of 50 arrays, each array having 10000 values)\n",
    "    p_value_list = []\n",
    "    \n",
    "    x = trial(samp_size) #from trial class\n",
    "    for i in range(50): #for each of the 50 permutation TESTS!!!!  \n",
    "        #simulating control and treatment groups for observed value(happens for each of the 50 permutation tests)\n",
    "        control = x.control_sim() #generating control group\n",
    "        treatment = x.treatment_sim() #generating treatment group\n",
    "\n",
    "        obs_stat = abs(control.mean() - treatment.mean()) #calculating observed statistic\n",
    "        obs_stat_list.append(obs_stat)\n",
    "\n",
    "        permutation = permutation_test(control, treatment)\n",
    "        perm = permutation.generate()\n",
    "        total_perm_list.append(perm)\n",
    "        #print(obs_stat)\n",
    "\n",
    "    #p-values\n",
    "    j = 0\n",
    "    for i in np.array(total_perm_list): #i = random stats from each perm test\n",
    "        #print(i)\n",
    "        p_value = np.sum(i >= obs_stat_list[j]) / i.size\n",
    "        p_value_list.append(p_value)\n",
    "        j += 1\n",
    "    \n",
    "    #probability of statistically significant difference\n",
    "    stat_sig = 0\n",
    "    for pval in p_value_list:\n",
    "        if pval < 0.05:\n",
    "            stat_sig += 1\n",
    "    prob_sig_val = stat_sig/len(p_value_list)\n",
    "    \n",
    "    return ((samp_size, prob_sig_val))\n",
    "    #n_values.append((samp_size, prob_sigval))\n",
    "    "
   ]
  },
  {
   "cell_type": "code",
   "execution_count": 8,
   "id": "a61fefd8",
   "metadata": {},
   "outputs": [
    {
     "ename": "KeyboardInterrupt",
     "evalue": "",
     "output_type": "error",
     "traceback": [
      "\u001b[1;31m---------------------------------------------------------------------------\u001b[0m",
      "\u001b[1;31mKeyboardInterrupt\u001b[0m                         Traceback (most recent call last)",
      "\u001b[1;32m<ipython-input-8-c46a1550f46d>\u001b[0m in \u001b[0;36m<module>\u001b[1;34m\u001b[0m\n\u001b[0;32m      2\u001b[0m \u001b[1;32mfor\u001b[0m \u001b[0mi\u001b[0m \u001b[1;32min\u001b[0m \u001b[0mrange\u001b[0m\u001b[1;33m(\u001b[0m\u001b[1;36m1\u001b[0m\u001b[1;33m,\u001b[0m\u001b[1;36m31\u001b[0m\u001b[1;33m)\u001b[0m\u001b[1;33m:\u001b[0m\u001b[1;33m\u001b[0m\u001b[1;33m\u001b[0m\u001b[0m\n\u001b[0;32m      3\u001b[0m     \u001b[1;31m#print(i)\u001b[0m\u001b[1;33m\u001b[0m\u001b[1;33m\u001b[0m\u001b[1;33m\u001b[0m\u001b[0m\n\u001b[1;32m----> 4\u001b[1;33m     \u001b[0mn_values_list\u001b[0m\u001b[1;33m.\u001b[0m\u001b[0mappend\u001b[0m\u001b[1;33m(\u001b[0m\u001b[0mn_values\u001b[0m\u001b[1;33m(\u001b[0m\u001b[0mi\u001b[0m\u001b[1;33m)\u001b[0m\u001b[1;33m)\u001b[0m\u001b[1;33m\u001b[0m\u001b[1;33m\u001b[0m\u001b[0m\n\u001b[0m\u001b[0;32m      5\u001b[0m \u001b[1;33m\u001b[0m\u001b[0m\n\u001b[0;32m      6\u001b[0m \u001b[0mprint\u001b[0m\u001b[1;33m(\u001b[0m\u001b[0mn_values_list\u001b[0m\u001b[1;33m)\u001b[0m\u001b[1;33m\u001b[0m\u001b[1;33m\u001b[0m\u001b[0m\n",
      "\u001b[1;32m<ipython-input-7-64b5d6723613>\u001b[0m in \u001b[0;36mn_values\u001b[1;34m(samp_size)\u001b[0m\n\u001b[0;32m     18\u001b[0m \u001b[1;33m\u001b[0m\u001b[0m\n\u001b[0;32m     19\u001b[0m         \u001b[0mpermutation\u001b[0m \u001b[1;33m=\u001b[0m \u001b[0mpermutation_test\u001b[0m\u001b[1;33m(\u001b[0m\u001b[0mcontrol\u001b[0m\u001b[1;33m,\u001b[0m \u001b[0mtreatment\u001b[0m\u001b[1;33m)\u001b[0m\u001b[1;33m\u001b[0m\u001b[1;33m\u001b[0m\u001b[0m\n\u001b[1;32m---> 20\u001b[1;33m         \u001b[0mperm\u001b[0m \u001b[1;33m=\u001b[0m \u001b[0mpermutation\u001b[0m\u001b[1;33m.\u001b[0m\u001b[0mgenerate\u001b[0m\u001b[1;33m(\u001b[0m\u001b[1;33m)\u001b[0m\u001b[1;33m\u001b[0m\u001b[1;33m\u001b[0m\u001b[0m\n\u001b[0m\u001b[0;32m     21\u001b[0m         \u001b[0mtotal_perm_list\u001b[0m\u001b[1;33m.\u001b[0m\u001b[0mappend\u001b[0m\u001b[1;33m(\u001b[0m\u001b[0mperm\u001b[0m\u001b[1;33m)\u001b[0m\u001b[1;33m\u001b[0m\u001b[1;33m\u001b[0m\u001b[0m\n\u001b[0;32m     22\u001b[0m         \u001b[1;31m#print(obs_stat)\u001b[0m\u001b[1;33m\u001b[0m\u001b[1;33m\u001b[0m\u001b[1;33m\u001b[0m\u001b[0m\n",
      "\u001b[1;32m<ipython-input-6-608c18ad0a53>\u001b[0m in \u001b[0;36mgenerate\u001b[1;34m(self)\u001b[0m\n\u001b[0;32m     26\u001b[0m         \u001b[0mrand_stats\u001b[0m \u001b[1;33m=\u001b[0m \u001b[0mnp\u001b[0m\u001b[1;33m.\u001b[0m\u001b[0mzeros\u001b[0m\u001b[1;33m(\u001b[0m\u001b[0mrounds\u001b[0m\u001b[1;33m)\u001b[0m \u001b[1;31m#permutation data\u001b[0m\u001b[1;33m\u001b[0m\u001b[1;33m\u001b[0m\u001b[0m\n\u001b[0;32m     27\u001b[0m         \u001b[1;32mfor\u001b[0m \u001b[0mi\u001b[0m \u001b[1;32min\u001b[0m \u001b[0mrange\u001b[0m\u001b[1;33m(\u001b[0m\u001b[0mrounds\u001b[0m\u001b[1;33m)\u001b[0m\u001b[1;33m:\u001b[0m\u001b[1;33m\u001b[0m\u001b[1;33m\u001b[0m\u001b[0m\n\u001b[1;32m---> 28\u001b[1;33m             \u001b[0mgo\u001b[0m\u001b[1;33m,\u001b[0m \u001b[0mgt\u001b[0m \u001b[1;33m=\u001b[0m \u001b[0mself\u001b[0m\u001b[1;33m.\u001b[0m\u001b[0mshuffle_groups\u001b[0m\u001b[1;33m(\u001b[0m\u001b[1;33m)\u001b[0m\u001b[1;33m\u001b[0m\u001b[1;33m\u001b[0m\u001b[0m\n\u001b[0m\u001b[0;32m     29\u001b[0m             \u001b[0mrand_stats\u001b[0m\u001b[1;33m[\u001b[0m\u001b[0mi\u001b[0m\u001b[1;33m]\u001b[0m \u001b[1;33m=\u001b[0m \u001b[0mabs\u001b[0m\u001b[1;33m(\u001b[0m\u001b[0mgo\u001b[0m\u001b[1;33m.\u001b[0m\u001b[0mmean\u001b[0m\u001b[1;33m(\u001b[0m\u001b[1;33m)\u001b[0m \u001b[1;33m-\u001b[0m \u001b[0mgt\u001b[0m\u001b[1;33m.\u001b[0m\u001b[0mmean\u001b[0m\u001b[1;33m(\u001b[0m\u001b[1;33m)\u001b[0m\u001b[1;33m)\u001b[0m\u001b[1;33m\u001b[0m\u001b[1;33m\u001b[0m\u001b[0m\n\u001b[0;32m     30\u001b[0m \u001b[1;33m\u001b[0m\u001b[0m\n",
      "\u001b[1;32m<ipython-input-6-608c18ad0a53>\u001b[0m in \u001b[0;36mshuffle_groups\u001b[1;34m(self)\u001b[0m\n\u001b[0;32m     13\u001b[0m         \u001b[0mWhen\u001b[0m \u001b[0mall\u001b[0m \u001b[0mthe\u001b[0m \u001b[0mdata\u001b[0m \u001b[1;32mis\u001b[0m \u001b[0mconcatenated\u001b[0m\u001b[1;33m,\u001b[0m \u001b[0mit\u001b[0m \u001b[1;32mis\u001b[0m \u001b[0mindexed\u001b[0m \u001b[0mbased\u001b[0m \u001b[0mon\u001b[0m \u001b[0mthe\u001b[0m \u001b[0mcontrol\u001b[0m \u001b[1;32mand\u001b[0m \u001b[0mtreatment\u001b[0m \u001b[0mgroups\u001b[0m\u001b[1;33m.\u001b[0m\u001b[1;33m\u001b[0m\u001b[1;33m\u001b[0m\u001b[0m\n\u001b[0;32m     14\u001b[0m         '''\n\u001b[1;32m---> 15\u001b[1;33m         \u001b[0mtemp\u001b[0m \u001b[1;33m=\u001b[0m \u001b[0mself\u001b[0m\u001b[1;33m.\u001b[0m\u001b[0mall\u001b[0m\u001b[1;33m.\u001b[0m\u001b[0mcopy\u001b[0m\u001b[1;33m(\u001b[0m\u001b[1;33m)\u001b[0m\u001b[1;33m\u001b[0m\u001b[1;33m\u001b[0m\u001b[0m\n\u001b[0m\u001b[0;32m     16\u001b[0m         \u001b[0mnp\u001b[0m\u001b[1;33m.\u001b[0m\u001b[0mrandom\u001b[0m\u001b[1;33m.\u001b[0m\u001b[0mshuffle\u001b[0m\u001b[1;33m(\u001b[0m\u001b[0mtemp\u001b[0m\u001b[1;33m)\u001b[0m\u001b[1;33m\u001b[0m\u001b[1;33m\u001b[0m\u001b[0m\n\u001b[0;32m     17\u001b[0m         \u001b[0mgo\u001b[0m \u001b[1;33m=\u001b[0m \u001b[0mtemp\u001b[0m\u001b[1;33m[\u001b[0m\u001b[1;33m:\u001b[0m\u001b[0mself\u001b[0m\u001b[1;33m.\u001b[0m\u001b[0mn_1\u001b[0m\u001b[1;33m]\u001b[0m\u001b[1;33m\u001b[0m\u001b[1;33m\u001b[0m\u001b[0m\n",
      "\u001b[1;31mKeyboardInterrupt\u001b[0m: "
     ]
    }
   ],
   "source": [
    "n_values_list = []\n",
    "for i in range(1,31):\n",
    "    #print(i)\n",
    "    n_values_list.append(n_values(i))\n",
    "\n",
    "print(n_values_list)"
   ]
  },
  {
   "cell_type": "code",
   "execution_count": 11,
   "id": "719f7fa9",
   "metadata": {},
   "outputs": [
    {
     "data": {
      "image/png": "[encoded data removed]",
      "text/plain": [
       "<Figure size 432x288 with 1 Axes>"
      ]
     },
     "metadata": {
      "needs_background": "light"
     },
     "output_type": "display_data"
    }
   ],
   "source": [
    "x_val = [x[0] for x in n_values_list]\n",
    "y_val = [x[1] for x in n_values_list]\n",
    "\n",
    "plt.xlabel('N-values')\n",
    "plt.ylabel('Probabilities')\n",
    "plt.title('Probability of a Statistically Significant Difference')\n",
    "plt.scatter(x_val,y_val)\n",
    "plt.show()"
   ]
  },
  {
   "cell_type": "code",
   "execution_count": 63,
   "id": "5eee896f",
   "metadata": {},
   "outputs": [
    {
     "name": "stdout",
     "output_type": "stream",
     "text": [
      "0.84\n",
      "0.88\n",
      "0.88\n",
      "0.88\n",
      "0.84\n",
      "0.88\n",
      "0.96\n",
      "0.96\n",
      "0.92\n",
      "0.94\n",
      "0.96\n",
      "0.92\n",
      "0.94\n",
      "0.96\n",
      "0.9\n",
      "0.86\n",
      "0.92\n",
      "0.92\n",
      "0.94\n",
      "0.92\n"
     ]
    }
   ],
   "source": [
    "for i in range(20):\n",
    "    print(n_values(30)[1])\n",
    "    "
   ]
  },
  {
   "cell_type": "markdown",
   "id": "f7eebc7b",
   "metadata": {},
   "source": [
    "30 seems to be a good value for N when looking for around 90% chance to pass the statistical test."
   ]
  }
 ],
 "metadata": {
  "kernelspec": {
   "display_name": "base",
   "language": "python",
   "name": "python3"
  },
  "language_info": {
   "codemirror_mode": {
    "name": "ipython",
    "version": 3
   },
   "file_extension": ".py",
   "mimetype": "text/x-python",
   "name": "python",
   "nbconvert_exporter": "python",
   "pygments_lexer": "ipython3",
   "version": "3.8.8"
  },
  "vscode": {
   "interpreter": {
    "hash": "99c4e80d3a481e7c34e6d7a679024087ac0d695133035f5d320542bbc8eb1303"
   }
  }
 },
 "nbformat": 4,
 "nbformat_minor": 5
}
